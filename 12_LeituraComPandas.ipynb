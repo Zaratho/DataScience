{
 "cells": [
  {
   "cell_type": "code",
   "execution_count": null,
   "id": "3e7c0869",
   "metadata": {},
   "outputs": [],
   "source": [
    "#Importação do pandas\n",
    "\n",
    "import pandas as pd"
   ]
  },
  {
   "cell_type": "code",
   "execution_count": null,
   "id": "698674d8",
   "metadata": {},
   "outputs": [],
   "source": [
    "#Leitura do arquivo sanduiches.txt\n",
    "\n",
    "faturas = pd.read_table('Sanduiches.txt') #Read table faz leitura em formato tabular\n",
    "faturas.head(20)                          #Exibição dos primeiros 20 registros"
   ]
  },
  {
   "cell_type": "code",
   "execution_count": null,
   "id": "fffd0064",
   "metadata": {},
   "outputs": [],
   "source": [
    "#Leitura do arquivo users.txt\n",
    "\n",
    "#Lista de colunas que se transformarão no cabeçalho do arquivo\n",
    "colunas = ['id','idade','sexo','profissao','cep']\n",
    "\n",
    "#Além do arquivo, é passado o separador, indicação de que não tem cabeçalho e nomes das colunas que serão o cabeçalho\n",
    "usuarios = pd.read_table('Users.txt', sep='|', header=None, names=colunas)\n",
    "\n",
    "#Editado para testes\n",
    "SystemError\n",
    "\n",
    "#Impressão dos primeiros 20 registros\n",
    "usuarios.head(20)"
   ]
  },
  {
   "cell_type": "code",
   "execution_count": null,
   "id": "e6118131",
   "metadata": {},
   "outputs": [],
   "source": [
    "#Leitura do arquivo csv ufo\n",
    "ufo = pd.read_csv('ufo.csv')\n",
    "ufo.head()"
   ]
  },
  {
   "cell_type": "code",
   "execution_count": null,
   "id": "1214a721",
   "metadata": {},
   "outputs": [],
   "source": [
    "#Leitura de arquivo com posição fixa\n",
    "df = pd.read_fwf('LarguraFixa.txt')\n",
    "df.head()"
   ]
  },
  {
   "cell_type": "code",
   "execution_count": null,
   "id": "c5478d12",
   "metadata": {},
   "outputs": [],
   "source": [
    "#Leitura de arquivo com espaços irregulares\n",
    "regex = '\\s+' #Espaço\n",
    "df = pd.read_csv('SepEspaco.txt',sep=regex) #Separador recebe a expressão regular regex\n",
    "df.head()"
   ]
  }
 ],
 "metadata": {
  "kernelspec": {
   "display_name": "Python 3",
   "language": "python",
   "name": "python3"
  },
  "language_info": {
   "codemirror_mode": {
    "name": "ipython",
    "version": 3
   },
   "file_extension": ".py",
   "mimetype": "text/x-python",
   "name": "python",
   "nbconvert_exporter": "python",
   "pygments_lexer": "ipython3",
   "version": "3.8.8"
  }
 },
 "nbformat": 4,
 "nbformat_minor": 5
}
